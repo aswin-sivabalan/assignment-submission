{
 "cells": [
  {
   "cell_type": "code",
   "execution_count": null,
   "id": "88463cf8",
   "metadata": {},
   "outputs": [],
   "source": [
    "#Question 1\n",
    "# Create a dataframe with 10 rows on random numbers and 4 columns, (columns labelled as a,b,c,d) and plot a bar chart."
   ]
  },
  {
   "cell_type": "code",
   "execution_count": 1,
   "id": "ce8f56ab-df35-4525-b2d7-304b0bdd78af",
   "metadata": {},
   "outputs": [],
   "source": [
    "import numpy as np \n",
    "import matplotlib.pyplot as plt\n",
    "import seaborn as sns\n",
    "import pandas as pd\n",
    "%matplotlib inline"
   ]
  },
  {
   "cell_type": "code",
   "execution_count": 3,
   "id": "36f2e1fe-53d8-468b-83dc-1a158a0326bb",
   "metadata": {},
   "outputs": [],
   "source": [
    "from numpy.random import randn,randint"
   ]
  },
  {
   "cell_type": "code",
   "execution_count": 16,
   "id": "fc59a32f-98d3-441b-b394-2517ad945fb2",
   "metadata": {
    "scrolled": true
   },
   "outputs": [
    {
     "data": {
      "text/html": [
       "<div>\n",
       "<style scoped>\n",
       "    .dataframe tbody tr th:only-of-type {\n",
       "        vertical-align: middle;\n",
       "    }\n",
       "\n",
       "    .dataframe tbody tr th {\n",
       "        vertical-align: top;\n",
       "    }\n",
       "\n",
       "    .dataframe thead th {\n",
       "        text-align: right;\n",
       "    }\n",
       "</style>\n",
       "<table border=\"1\" class=\"dataframe\">\n",
       "  <thead>\n",
       "    <tr style=\"text-align: right;\">\n",
       "      <th></th>\n",
       "      <th>a</th>\n",
       "      <th>b</th>\n",
       "      <th>c</th>\n",
       "      <th>d</th>\n",
       "    </tr>\n",
       "  </thead>\n",
       "  <tbody>\n",
       "    <tr>\n",
       "      <th>0</th>\n",
       "      <td>-0.043191</td>\n",
       "      <td>-1.222510</td>\n",
       "      <td>-1.682311</td>\n",
       "      <td>-0.359914</td>\n",
       "    </tr>\n",
       "    <tr>\n",
       "      <th>1</th>\n",
       "      <td>1.563617</td>\n",
       "      <td>0.302611</td>\n",
       "      <td>1.139082</td>\n",
       "      <td>0.548532</td>\n",
       "    </tr>\n",
       "    <tr>\n",
       "      <th>2</th>\n",
       "      <td>-0.099935</td>\n",
       "      <td>0.648176</td>\n",
       "      <td>-0.927274</td>\n",
       "      <td>0.447731</td>\n",
       "    </tr>\n",
       "    <tr>\n",
       "      <th>3</th>\n",
       "      <td>0.385667</td>\n",
       "      <td>0.287883</td>\n",
       "      <td>-0.029304</td>\n",
       "      <td>-1.156108</td>\n",
       "    </tr>\n",
       "    <tr>\n",
       "      <th>4</th>\n",
       "      <td>-2.229182</td>\n",
       "      <td>0.014749</td>\n",
       "      <td>-1.376845</td>\n",
       "      <td>-1.065218</td>\n",
       "    </tr>\n",
       "    <tr>\n",
       "      <th>5</th>\n",
       "      <td>-0.240124</td>\n",
       "      <td>-0.687562</td>\n",
       "      <td>-0.320984</td>\n",
       "      <td>-0.118886</td>\n",
       "    </tr>\n",
       "    <tr>\n",
       "      <th>6</th>\n",
       "      <td>-0.388980</td>\n",
       "      <td>0.106207</td>\n",
       "      <td>0.803619</td>\n",
       "      <td>0.493940</td>\n",
       "    </tr>\n",
       "    <tr>\n",
       "      <th>7</th>\n",
       "      <td>-0.050003</td>\n",
       "      <td>0.664874</td>\n",
       "      <td>0.675524</td>\n",
       "      <td>0.369370</td>\n",
       "    </tr>\n",
       "    <tr>\n",
       "      <th>8</th>\n",
       "      <td>-1.138683</td>\n",
       "      <td>-0.375089</td>\n",
       "      <td>-0.111571</td>\n",
       "      <td>-1.043509</td>\n",
       "    </tr>\n",
       "    <tr>\n",
       "      <th>9</th>\n",
       "      <td>0.946060</td>\n",
       "      <td>-1.983529</td>\n",
       "      <td>-0.601001</td>\n",
       "      <td>1.147213</td>\n",
       "    </tr>\n",
       "  </tbody>\n",
       "</table>\n",
       "</div>"
      ],
      "text/plain": [
       "          a         b         c         d\n",
       "0 -0.043191 -1.222510 -1.682311 -0.359914\n",
       "1  1.563617  0.302611  1.139082  0.548532\n",
       "2 -0.099935  0.648176 -0.927274  0.447731\n",
       "3  0.385667  0.287883 -0.029304 -1.156108\n",
       "4 -2.229182  0.014749 -1.376845 -1.065218\n",
       "5 -0.240124 -0.687562 -0.320984 -0.118886\n",
       "6 -0.388980  0.106207  0.803619  0.493940\n",
       "7 -0.050003  0.664874  0.675524  0.369370\n",
       "8 -1.138683 -0.375089 -0.111571 -1.043509\n",
       "9  0.946060 -1.983529 -0.601001  1.147213"
      ]
     },
     "execution_count": 16,
     "metadata": {},
     "output_type": "execute_result"
    }
   ],
   "source": [
    "data=pd.DataFrame(randn(10,4),columns=['a','b','c','d'])\n",
    "data"
   ]
  },
  {
   "cell_type": "code",
   "execution_count": 17,
   "id": "4cbdae0e",
   "metadata": {},
   "outputs": [
    {
     "data": {
      "image/png": "[encoded data removed]",
      "text/plain": [
       "<Figure size 432x288 with 1 Axes>"
      ]
     },
     "metadata": {
      "needs_background": "light"
     },
     "output_type": "display_data"
    }
   ],
   "source": [
    "data.plot.bar()\n",
    "plt.title('BAR GRAPH')\n",
    "plt.show()"
   ]
  },
  {
   "cell_type": "code",
   "execution_count": null,
   "id": "76a137c4",
   "metadata": {},
   "outputs": [],
   "source": []
  }
 ],
 "metadata": {
  "kernelspec": {
   "display_name": "Python 3",
   "language": "python",
   "name": "python3"
  },
  "language_info": {
   "codemirror_mode": {
    "name": "ipython",
    "version": 3
   },
   "file_extension": ".py",
   "mimetype": "text/x-python",
   "name": "python",
   "nbconvert_exporter": "python",
   "pygments_lexer": "ipython3",
   "version": "3.8.8"
  },
  "toc-autonumbering": true,
  "toc-showcode": true,
  "toc-showmarkdowntxt": true
 },
 "nbformat": 4,
 "nbformat_minor": 5
}
